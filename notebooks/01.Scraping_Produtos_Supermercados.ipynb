{
 "cells": [
  {
   "cell_type": "markdown",
   "id": "d24994e5-584d-4e4a-be7a-3b94c6573fa5",
   "metadata": {},
   "source": [
    "# Viver sem grandes superfícies\n",
    "\n",
    "Extrair preços de produtos nas grandes superfícies\n",
    "\n",
    "Manuel Banza - April, 2023"
   ]
  },
  {
   "cell_type": "markdown",
   "id": "31bc05bb-5f6c-4f11-853e-33128179f18f",
   "metadata": {},
   "source": [
    "<img src=\"data:image/png;base64,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\" width=\"150\"/>"
   ]
  },
  {
   "cell_type": "code",
   "execution_count": 22,
   "id": "09a44249-6af5-41d4-b82c-df60154a78a4",
   "metadata": {},
   "outputs": [],
   "source": [
    "import requests\n",
    "import pandas as pd\n",
    "from datetime import datetime, timedelta\n",
    "import io\n",
    "import requests\n",
    "from requests.packages.urllib3.exceptions import InsecureRequestWarning"
   ]
  },
  {
   "cell_type": "code",
   "execution_count": 2,
   "id": "f28c15e5-5c73-4161-b59b-ca110abd4e5a",
   "metadata": {},
   "outputs": [],
   "source": [
    "# Show all columns with head()\n",
    "pd.set_option('display.max_columns', None)"
   ]
  },
  {
   "cell_type": "markdown",
   "id": "1afca3ad-6cde-403a-a789-d0904fb44b53",
   "metadata": {},
   "source": [
    "# 1. Importar dados"
   ]
  },
  {
   "cell_type": "markdown",
   "id": "0b75debd-d73f-4467-8208-fb9e765ce9b1",
   "metadata": {},
   "source": [
    "## 1.1. Lista de produtos a pesquisar"
   ]
  },
  {
   "cell_type": "code",
   "execution_count": 4,
   "id": "003fb813-a128-4990-b36b-91965af39924",
   "metadata": {},
   "outputs": [],
   "source": [
    "# url = 'https://docs.google.com/spreadsheets/d/1ZGw9064Dj07dKZbKxFUNQVBYS9fDPWhbTLwE0pfjXK4/edit?usp=sharing'"
   ]
  },
  {
   "cell_type": "code",
   "execution_count": 5,
   "id": "10ede91e-a1ca-43aa-9947-ff04bafcfcaf",
   "metadata": {},
   "outputs": [
    {
     "data": {
      "text/html": [
       "<div>\n",
       "<style scoped>\n",
       "    .dataframe tbody tr th:only-of-type {\n",
       "        vertical-align: middle;\n",
       "    }\n",
       "\n",
       "    .dataframe tbody tr th {\n",
       "        vertical-align: top;\n",
       "    }\n",
       "\n",
       "    .dataframe thead th {\n",
       "        text-align: right;\n",
       "    }\n",
       "</style>\n",
       "<table border=\"1\" class=\"dataframe\">\n",
       "  <thead>\n",
       "    <tr style=\"text-align: right;\">\n",
       "      <th></th>\n",
       "      <th>Palavras a pesquisar</th>\n",
       "    </tr>\n",
       "  </thead>\n",
       "  <tbody>\n",
       "    <tr>\n",
       "      <th>0</th>\n",
       "      <td>manteiga de amendoim</td>\n",
       "    </tr>\n",
       "    <tr>\n",
       "      <th>1</th>\n",
       "      <td>leite de soja</td>\n",
       "    </tr>\n",
       "    <tr>\n",
       "      <th>2</th>\n",
       "      <td>cogumelos marron</td>\n",
       "    </tr>\n",
       "  </tbody>\n",
       "</table>\n",
       "</div>"
      ],
      "text/plain": [
       "   Palavras a pesquisar\n",
       "0  manteiga de amendoim\n",
       "1         leite de soja\n",
       "2      cogumelos marron"
      ]
     },
     "execution_count": 5,
     "metadata": {},
     "output_type": "execute_result"
    }
   ],
   "source": [
    "SHEET_ID = '1ZGw9064Dj07dKZbKxFUNQVBYS9fDPWhbTLwE0pfjXK4'\n",
    "SHEET_NAME = 'Folha1'\n",
    "url = f'https://docs.google.com/spreadsheets/d/{SHEET_ID}/gviz/tq?tqx=out:csv&sheet={SHEET_NAME}'\n",
    "df = pd.read_csv(url)\n",
    "df.head()"
   ]
  },
  {
   "cell_type": "code",
   "execution_count": 6,
   "id": "21461775-473f-4a81-a83e-01d007b93abe",
   "metadata": {},
   "outputs": [],
   "source": [
    "keywords = df['Palavras a pesquisar'].to_list()"
   ]
  },
  {
   "cell_type": "code",
   "execution_count": 8,
   "id": "faa1d8f4-cc6a-471a-b721-54fc901773ad",
   "metadata": {
    "tags": []
   },
   "outputs": [
    {
     "data": {
      "text/plain": [
       "'leite de soja'"
      ]
     },
     "execution_count": 8,
     "metadata": {},
     "output_type": "execute_result"
    }
   ],
   "source": [
    "keywords[1]"
   ]
  },
  {
   "cell_type": "markdown",
   "id": "9b768d8c-08c1-46ef-82d8-eeef959c8401",
   "metadata": {},
   "source": [
    "# 2. Obter dados"
   ]
  },
  {
   "cell_type": "code",
   "execution_count": 9,
   "id": "c01a478c-9acf-4fef-ba8e-c5cc6989cf75",
   "metadata": {},
   "outputs": [
    {
     "name": "stdout",
     "output_type": "stream",
     "text": [
      "CPU times: user 86.8 ms, sys: 933 µs, total: 87.7 ms\n",
      "Wall time: 9.05 s\n"
     ]
    }
   ],
   "source": [
    "%%time\n",
    "\n",
    "# Scrapper\n",
    "\n",
    "import requests\n",
    "from requests.packages.urllib3.exceptions import InsecureRequestWarning\n",
    "\n",
    "# disable SSL certificate verification warnings\n",
    "requests.packages.urllib3.disable_warnings(category=InsecureRequestWarning)\n",
    "\n",
    "url = \"https://content-api.prices-crawler.duckdns.org/api/v1/products/search\"\n",
    "\n",
    "headers = {\n",
    "    \"User-Agent\": \"Mozilla/5.0 (Windows NT 10.0; Win64; x64; rv:109.0) Gecko/20100101 Firefox/112.0\",\n",
    "    \"Accept\": \"application/json, text/plain, */*\",\n",
    "    \"Accept-Language\": \"pt-PT,pt;q=0.8,en;q=0.5,en-US;q=0.3\",\n",
    "    \"Accept-Encoding\": \"gzip, deflate, br\",\n",
    "    \"Content-Type\": \"application/json\",\n",
    "    \"Origin\": \"https://prices-crawler.vercel.app\",\n",
    "    \"Connection\": \"keep-alive\",\n",
    "    \"Referer\": \"https://prices-crawler.vercel.app/\",\n",
    "    \"Sec-Fetch-Dest\": \"empty\",\n",
    "    \"Sec-Fetch-Mode\": \"cors\",\n",
    "    \"Sec-Fetch-Site\": \"cross-site\",\n",
    "}\n",
    "\n",
    "json_data = []\n",
    "\n",
    "for keyword in keywords:\n",
    "    data = {\n",
    "        \"catalogs\": [\"pt.auchan\", \"pt.continente\", \"pt.minipreco\", \"pt.pingo-doce\"],\n",
    "        \"query\": keyword,\n",
    "    \n",
    "    }\n",
    "\n",
    "    response = requests.post(url, headers=headers, json=data, verify=False)\n",
    "\n",
    "    if response.ok:\n",
    "        response_data = response.json()\n",
    "        # append a dictionary with the keyword value to json_data\n",
    "        json_data.append({\"keyword\": keyword, \"response\": response_data})\n",
    "    else:\n",
    "        print(f\"API request failed with status code {response.status_code}\")\n"
   ]
  },
  {
   "cell_type": "code",
   "execution_count": 50,
   "id": "3943f273-a664-4ecc-9370-10228a71020e",
   "metadata": {},
   "outputs": [],
   "source": [
    "#json_data"
   ]
  },
  {
   "cell_type": "code",
   "execution_count": 15,
   "id": "75583eda-dadf-41a5-b47e-c52d5a824c03",
   "metadata": {
    "tags": []
   },
   "outputs": [],
   "source": [
    "# define the columns for the dataframe\n",
    "columns = ['keyword', 'locale', 'catalog', 'id', 'reference', 'name', 'regularPrice', 'campaignPrice', 'pricePerQuantity', 'quantity', 'brand', 'description', 'productUrl', 'imageUrl', 'eanUpcList', 'date', 'data']\n",
    "\n",
    "# create an empty list to hold each row of data\n",
    "data = []\n",
    "\n",
    "for dictionary in json_data:\n",
    "    response = dictionary['response']\n",
    "    locale = response[0]['locale']\n",
    "    for catalog_data in response:\n",
    "        catalog = catalog_data['catalog']\n",
    "        for product in catalog_data['products']:\n",
    "            # add the relevant data to the 'data' list\n",
    "            data.append([\n",
    "                dictionary['keyword'], locale, catalog, product.get('id'), product.get('reference'), product.get('name'),\n",
    "                product.get('regularPrice'), product.get('campaignPrice'), product.get('pricePerQuantity'), product.get('quantity'),\n",
    "                product.get('brand'), product.get('description'), product.get('productUrl'), product.get('imageUrl'),\n",
    "                product.get('eanUpcList'), product.get('date'), product.get('data')\n",
    "            ])\n",
    "\n",
    "# create the Pandas dataframe\n",
    "df = pd.DataFrame(data, columns=columns)\n"
   ]
  },
  {
   "cell_type": "code",
   "execution_count": 16,
   "id": "60382f7f-1aac-4961-87f2-476074a4113f",
   "metadata": {},
   "outputs": [
    {
     "data": {
      "text/html": [
       "<div>\n",
       "<style scoped>\n",
       "    .dataframe tbody tr th:only-of-type {\n",
       "        vertical-align: middle;\n",
       "    }\n",
       "\n",
       "    .dataframe tbody tr th {\n",
       "        vertical-align: top;\n",
       "    }\n",
       "\n",
       "    .dataframe thead th {\n",
       "        text-align: right;\n",
       "    }\n",
       "</style>\n",
       "<table border=\"1\" class=\"dataframe\">\n",
       "  <thead>\n",
       "    <tr style=\"text-align: right;\">\n",
       "      <th></th>\n",
       "      <th>keyword</th>\n",
       "      <th>locale</th>\n",
       "      <th>catalog</th>\n",
       "      <th>id</th>\n",
       "      <th>reference</th>\n",
       "      <th>name</th>\n",
       "      <th>regularPrice</th>\n",
       "      <th>campaignPrice</th>\n",
       "      <th>pricePerQuantity</th>\n",
       "      <th>quantity</th>\n",
       "      <th>brand</th>\n",
       "      <th>description</th>\n",
       "      <th>productUrl</th>\n",
       "      <th>imageUrl</th>\n",
       "      <th>eanUpcList</th>\n",
       "      <th>date</th>\n",
       "      <th>data</th>\n",
       "    </tr>\n",
       "  </thead>\n",
       "  <tbody>\n",
       "    <tr>\n",
       "      <th>0</th>\n",
       "      <td>manteiga de amendoim</td>\n",
       "      <td>pt</td>\n",
       "      <td>auchan</td>\n",
       "      <td>pt.auchan.3503408</td>\n",
       "      <td>3503408</td>\n",
       "      <td>manteiga amendoim auchan 100% &amp; cremosa 500g</td>\n",
       "      <td>2,89 €</td>\n",
       "      <td>None</td>\n",
       "      <td>5.78 €/Kg</td>\n",
       "      <td>None</td>\n",
       "      <td>None</td>\n",
       "      <td>None</td>\n",
       "      <td>https://www.auchan.pt/pt/alimentacao/mercearia...</td>\n",
       "      <td>https://www.auchan.pt/dw/image/v2/BFRC_PRD/on/...</td>\n",
       "      <td>None</td>\n",
       "      <td>2023-04-16T10:42:55.020124996Z</td>\n",
       "      <td>None</td>\n",
       "    </tr>\n",
       "    <tr>\n",
       "      <th>1</th>\n",
       "      <td>manteiga de amendoim</td>\n",
       "      <td>pt</td>\n",
       "      <td>auchan</td>\n",
       "      <td>pt.auchan.2485760</td>\n",
       "      <td>2485760</td>\n",
       "      <td>manteiga prozis amendoim crocante 1kg</td>\n",
       "      <td>5,99 €</td>\n",
       "      <td>None</td>\n",
       "      <td>5.99 €/Kg</td>\n",
       "      <td>None</td>\n",
       "      <td>None</td>\n",
       "      <td>None</td>\n",
       "      <td>https://www.auchan.pt/pt/biologicos-e-escolhas...</td>\n",
       "      <td>https://www.auchan.pt/dw/image/v2/BFRC_PRD/on/...</td>\n",
       "      <td>None</td>\n",
       "      <td>2023-04-16T10:42:55.020124996Z</td>\n",
       "      <td>None</td>\n",
       "    </tr>\n",
       "    <tr>\n",
       "      <th>2</th>\n",
       "      <td>manteiga de amendoim</td>\n",
       "      <td>pt</td>\n",
       "      <td>auchan</td>\n",
       "      <td>pt.auchan.2271335</td>\n",
       "      <td>2271335</td>\n",
       "      <td>manteiga prozis amendoim crocante e 100% natur...</td>\n",
       "      <td>3,49 €</td>\n",
       "      <td>None</td>\n",
       "      <td>6.98 €/Kg</td>\n",
       "      <td>None</td>\n",
       "      <td>None</td>\n",
       "      <td>None</td>\n",
       "      <td>https://www.auchan.pt/pt/biologicos-e-escolhas...</td>\n",
       "      <td>https://www.auchan.pt/dw/image/v2/BFRC_PRD/on/...</td>\n",
       "      <td>None</td>\n",
       "      <td>2023-04-16T10:42:55.020124996Z</td>\n",
       "      <td>None</td>\n",
       "    </tr>\n",
       "    <tr>\n",
       "      <th>3</th>\n",
       "      <td>manteiga de amendoim</td>\n",
       "      <td>pt</td>\n",
       "      <td>auchan</td>\n",
       "      <td>pt.auchan.3209072</td>\n",
       "      <td>3209072</td>\n",
       "      <td>iogurte yopro manteiga amendoim e banana 160g</td>\n",
       "      <td>1,64 €</td>\n",
       "      <td>1,29 €</td>\n",
       "      <td>8.06 €/Kg</td>\n",
       "      <td>None</td>\n",
       "      <td>None</td>\n",
       "      <td>None</td>\n",
       "      <td>https://www.auchan.pt/pt/alimentacao/produtos-...</td>\n",
       "      <td>https://www.auchan.pt/dw/image/v2/BFRC_PRD/on/...</td>\n",
       "      <td>None</td>\n",
       "      <td>2023-04-16T10:42:55.020124996Z</td>\n",
       "      <td>None</td>\n",
       "    </tr>\n",
       "    <tr>\n",
       "      <th>4</th>\n",
       "      <td>manteiga de amendoim</td>\n",
       "      <td>pt</td>\n",
       "      <td>auchan</td>\n",
       "      <td>pt.auchan.2216065</td>\n",
       "      <td>2216065</td>\n",
       "      <td>manteiga amendoim prozis cremosa e 100% natura...</td>\n",
       "      <td>3,49 €</td>\n",
       "      <td>None</td>\n",
       "      <td>6.98 €/Kg</td>\n",
       "      <td>None</td>\n",
       "      <td>None</td>\n",
       "      <td>None</td>\n",
       "      <td>https://www.auchan.pt/pt/biologicos-e-escolhas...</td>\n",
       "      <td>https://www.auchan.pt/dw/image/v2/BFRC_PRD/on/...</td>\n",
       "      <td>None</td>\n",
       "      <td>2023-04-16T10:42:55.020124996Z</td>\n",
       "      <td>None</td>\n",
       "    </tr>\n",
       "  </tbody>\n",
       "</table>\n",
       "</div>"
      ],
      "text/plain": [
       "                keyword locale catalog                 id reference  \\\n",
       "0  manteiga de amendoim     pt  auchan  pt.auchan.3503408   3503408   \n",
       "1  manteiga de amendoim     pt  auchan  pt.auchan.2485760   2485760   \n",
       "2  manteiga de amendoim     pt  auchan  pt.auchan.2271335   2271335   \n",
       "3  manteiga de amendoim     pt  auchan  pt.auchan.3209072   3209072   \n",
       "4  manteiga de amendoim     pt  auchan  pt.auchan.2216065   2216065   \n",
       "\n",
       "                                                name regularPrice  \\\n",
       "0       manteiga amendoim auchan 100% & cremosa 500g       2,89 €   \n",
       "1              manteiga prozis amendoim crocante 1kg       5,99 €   \n",
       "2  manteiga prozis amendoim crocante e 100% natur...       3,49 €   \n",
       "3      iogurte yopro manteiga amendoim e banana 160g      1,64 €    \n",
       "4  manteiga amendoim prozis cremosa e 100% natura...       3,49 €   \n",
       "\n",
       "  campaignPrice pricePerQuantity quantity brand description  \\\n",
       "0          None        5.78 €/Kg     None  None        None   \n",
       "1          None        5.99 €/Kg     None  None        None   \n",
       "2          None        6.98 €/Kg     None  None        None   \n",
       "3        1,29 €        8.06 €/Kg     None  None        None   \n",
       "4          None        6.98 €/Kg     None  None        None   \n",
       "\n",
       "                                          productUrl  \\\n",
       "0  https://www.auchan.pt/pt/alimentacao/mercearia...   \n",
       "1  https://www.auchan.pt/pt/biologicos-e-escolhas...   \n",
       "2  https://www.auchan.pt/pt/biologicos-e-escolhas...   \n",
       "3  https://www.auchan.pt/pt/alimentacao/produtos-...   \n",
       "4  https://www.auchan.pt/pt/biologicos-e-escolhas...   \n",
       "\n",
       "                                            imageUrl eanUpcList  \\\n",
       "0  https://www.auchan.pt/dw/image/v2/BFRC_PRD/on/...       None   \n",
       "1  https://www.auchan.pt/dw/image/v2/BFRC_PRD/on/...       None   \n",
       "2  https://www.auchan.pt/dw/image/v2/BFRC_PRD/on/...       None   \n",
       "3  https://www.auchan.pt/dw/image/v2/BFRC_PRD/on/...       None   \n",
       "4  https://www.auchan.pt/dw/image/v2/BFRC_PRD/on/...       None   \n",
       "\n",
       "                             date  data  \n",
       "0  2023-04-16T10:42:55.020124996Z  None  \n",
       "1  2023-04-16T10:42:55.020124996Z  None  \n",
       "2  2023-04-16T10:42:55.020124996Z  None  \n",
       "3  2023-04-16T10:42:55.020124996Z  None  \n",
       "4  2023-04-16T10:42:55.020124996Z  None  "
      ]
     },
     "execution_count": 16,
     "metadata": {},
     "output_type": "execute_result"
    }
   ],
   "source": [
    "df.head()"
   ]
  },
  {
   "cell_type": "code",
   "execution_count": 17,
   "id": "a498caca-c27e-47ec-a544-13586bb225cf",
   "metadata": {
    "tags": []
   },
   "outputs": [
    {
     "data": {
      "text/plain": [
       "manteiga de amendoim    97\n",
       "leite de soja           70\n",
       "cogumelos marron        33\n",
       "Name: keyword, dtype: int64"
      ]
     },
     "execution_count": 17,
     "metadata": {},
     "output_type": "execute_result"
    }
   ],
   "source": [
    "df.keyword.value_counts(dropna=False)"
   ]
  },
  {
   "cell_type": "code",
   "execution_count": 18,
   "id": "473b6915-c8e4-4c60-9ccd-840d7243ae1e",
   "metadata": {
    "tags": []
   },
   "outputs": [
    {
     "data": {
      "text/plain": [
       "minipreco     72\n",
       "auchan        52\n",
       "continente    51\n",
       "pingo-doce    25\n",
       "Name: catalog, dtype: int64"
      ]
     },
     "execution_count": 18,
     "metadata": {},
     "output_type": "execute_result"
    }
   ],
   "source": [
    "df.catalog.value_counts(dropna=False)"
   ]
  },
  {
   "cell_type": "code",
   "execution_count": 20,
   "id": "4c18f585-23a9-45e2-8f23-1a17dcfbaceb",
   "metadata": {},
   "outputs": [],
   "source": [
    "# df.loc[df['keyword']=='cogumelos marron']"
   ]
  },
  {
   "cell_type": "code",
   "execution_count": 23,
   "id": "6c108a24-dd31-4378-9578-92b70d480775",
   "metadata": {
    "tags": []
   },
   "outputs": [],
   "source": [
    "# Get today date now to file name when export to csv or excel with encoding utf8\n",
    "df.to_csv((datetime.now()+timedelta(hours=1)).strftime('../data_sources/data_transformed/produtos_online_scrap-%Y-%m-%d.csv'), encoding='utf8', index=False)"
   ]
  },
  {
   "cell_type": "code",
   "execution_count": null,
   "id": "f332737f-1f1f-42bb-9715-93851fd3a611",
   "metadata": {},
   "outputs": [],
   "source": []
  }
 ],
 "metadata": {
  "kernelspec": {
   "display_name": "Python 3 (ipykernel)",
   "language": "python",
   "name": "python3"
  },
  "language_info": {
   "codemirror_mode": {
    "name": "ipython",
    "version": 3
   },
   "file_extension": ".py",
   "mimetype": "text/x-python",
   "name": "python",
   "nbconvert_exporter": "python",
   "pygments_lexer": "ipython3",
   "version": "3.10.10"
  }
 },
 "nbformat": 4,
 "nbformat_minor": 5
}
